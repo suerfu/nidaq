{
 "cells": [
  {
   "cell_type": "code",
   "execution_count": null,
   "metadata": {},
   "outputs": [],
   "source": [
    "import h5py as h5;\n",
    "import numpy as np;\n",
    "from scipy import optimize;\n",
    "import matplotlib.pyplot as plt;"
   ]
  },
  {
   "cell_type": "code",
   "execution_count": null,
   "metadata": {},
   "outputs": [],
   "source": [
    "def SineWave(t, T, Phi=0, A=1, offset=0):\n",
    "    phi = np.arctan(np.tan(Phi));\n",
    "    return A*np.sin(2*np.pi*t/T+Phi)+offset;\n",
    "\n",
    "def CosineWave(t, T, Phi=0, A=1, offset=0):\n",
    "    phi = np.arctan(np.tan(Phi));\n",
    "    return A*2*np.pi/T*np.sin(2*np.pi*t/T+Phi);\n",
    "\n",
    "def GetPhaseDiff( a, b):\n",
    "    return np.arctan2( np.sin(a-b), np.cos(a-b));"
   ]
  },
  {
   "cell_type": "code",
   "execution_count": null,
   "metadata": {},
   "outputs": [],
   "source": [
    "ch_index = 0\n",
    "nb_slice = 4000\n",
    "\n",
    "DY = []\n",
    "DDY = []\n",
    "\n",
    "file_prefix = '/sdata/data_challenge1/data_challenge_1a/Data_Challenge_1a_I1_D20200602_T155523_F0'\n",
    "file_prefix = '/sdata/data_challenge1/data_challenge_1b/Data_Challenge_1b_I1_D20200601_T161750_F00'\n",
    "#file_prefix = '/sdata/data_challenge1/data_challenge_1b_contrast/Data_Challenge_1b_Finite_I1_D20200607_T163827_F00'\n",
    "\n",
    "for index in range(1,11):\n",
    "    \n",
    "    dump_num = '%02d' % index\n",
    "    filename = file_prefix + dump_num + '.hdf5'\n",
    "    file = h5.File( filename )\n",
    "\n",
    "    #print('Keys:')\n",
    "    #print( list( file.attrs.keys() ) )\n",
    "    #print('Keys under adc1:')\n",
    "    #print( list( file['adc1'].attrs.keys() ) )\n",
    "\n",
    "    nb_samples = file['adc1'].attrs['nb_samples']\n",
    "    nb_events = file['adc1'].attrs['nb_events']\n",
    "    sample_rate = file['adc1'].attrs['sample_rate']\n",
    "\n",
    "    cal = file['adc1'].attrs['adc_conversion_factor']\n",
    "    cal_coeff = cal[ch_index][::-1]\n",
    "    poly = np.poly1d( cal_coeff )\n",
    "\n",
    "\n",
    "    for evt_index in range(1, nb_events):\n",
    "\n",
    "        bounds = ([0.1, -np.pi, -2, -0.5], [2, np.pi, 2, 0.5 ]);\n",
    "\n",
    "        #t1 = 1000*np.linspace( 0, nb_samples/sample_rate, nb_samples)[-nb_slice:]\n",
    "        y1 = poly(file['adc1']['event_%d' % evt_index][ch_index][-1])\n",
    "        #par1, opt = optimize.curve_fit(SineWave, t1, y1)\n",
    "\n",
    "        #t2 = 1000*np.linspace( nb_samples/sample_rate, 2*nb_samples/sample_rate, nb_samples)[:nb_slice]\n",
    "        y2 = poly(file['adc1']['event_%d' % (evt_index+1)][ch_index][0])\n",
    "        #par2, opt = optimize.curve_fit(SineWave, t2, y2)\n",
    "\n",
    "        #t = np.append(t1,t2);\n",
    "\n",
    "        #dy = (SineWave(t2, *par2)[0]-SineWave(t1, *par1)[-1])/par1[0]\n",
    "        #ddy = (CosineWave(t2, *par2)[0]-CosineWave(t1, *par1)[-1])\n",
    "        \n",
    "        DY = np.append( DY, y2-y1)\n",
    "        #DDY = np.append( DDY, ddy)\n",
    "    \n",
    "    file.close()"
   ]
  },
  {
   "cell_type": "code",
   "execution_count": null,
   "metadata": {},
   "outputs": [],
   "source": [
    "plt.figure( figsize=(12,8) );\n",
    "plt.hist(DY, bins=np.linspace(-.015, .015, 100));\n",
    "plt.xlabel(\"Voltage difference (V)\");\n",
    "plt.ylabel(\"Count\");\n",
    "plt.title('Data Challenge 1b D20200601 T161750')\n"
   ]
  },
  {
   "cell_type": "code",
   "execution_count": null,
   "metadata": {},
   "outputs": [],
   "source": [
    "nb_slice = 10\n",
    "\n",
    "file_prefix = '/sdata/data_challenge1/data_challenge_1b/Data_Challenge_1b_I1_D20200601_T161750_F00'\n",
    "file_prefix = '/sdata/data_challenge1/data_challenge_1a/Data_Challenge_1a_I1_D20200602_T155523_F0'\n",
    "\n",
    "index = 2\n",
    "\n",
    "dump_num = '%03d' % index\n",
    "filename = file_prefix + dump_num + '.hdf5'\n",
    "file = h5.File( filename )\n",
    "\n",
    "nb_samples = file['adc1'].attrs['nb_samples']\n",
    "nb_events = file['adc1'].attrs['nb_events']\n",
    "sample_rate = file['adc1'].attrs['sample_rate']\n",
    "\n",
    "cal = file['adc1'].attrs['adc_conversion_factor']\n",
    "cal_coeff = cal[ch_index][::-1]\n",
    "poly = np.poly1d( cal_coeff )\n",
    "\n",
    "\n",
    "evt_index = 10\n",
    "\n",
    "t1 = 1000*np.linspace( 0, nb_samples/sample_rate, nb_samples)[-nb_slice:]\n",
    "y1 = poly(file['adc1']['event_%d' % evt_index][ch_index][-nb_slice:])\n",
    "        #par1, opt = optimize.curve_fit(SineWave, t1, y1)\n",
    "\n",
    "t2 = 1000*np.linspace( nb_samples/sample_rate, 2*nb_samples/sample_rate, nb_samples)[:nb_slice]\n",
    "y2 = poly(file['adc1']['event_%d' % (evt_index+1)][ch_index][:nb_slice])\n",
    "        #par2, opt = optimize.curve_fit(SineWave, t2, y2)\n",
    "\n",
    "t = np.append(t1,t2);\n",
    "\n",
    "plt.plot(t1, y1)\n",
    "plt.plot(t2, y2)\n",
    "print(y2[0]-y1[-1:])"
   ]
  },
  {
   "cell_type": "code",
   "execution_count": null,
   "metadata": {},
   "outputs": [],
   "source": [
    "chan_index = 2\n",
    "\n",
    "event_name = 'event_%d' % evt_index\n",
    "event = f[event_name][chan_index][0:1000]\n",
    "plt.plot(event)"
   ]
  },
  {
   "cell_type": "code",
   "execution_count": null,
   "metadata": {},
   "outputs": [],
   "source": [
    "chan_index = 3\n",
    "\n",
    "event_name = 'event_%d' % evt_index\n",
    "event = f[event_name][chan_index][0:1000]\n",
    "plt.plot(event)"
   ]
  },
  {
   "cell_type": "code",
   "execution_count": null,
   "metadata": {},
   "outputs": [],
   "source": []
  }
 ],
 "metadata": {
  "kernelspec": {
   "display_name": "Python 3",
   "language": "python",
   "name": "python3"
  },
  "language_info": {
   "codemirror_mode": {
    "name": "ipython",
    "version": 3
   },
   "file_extension": ".py",
   "mimetype": "text/x-python",
   "name": "python",
   "nbconvert_exporter": "python",
   "pygments_lexer": "ipython3",
   "version": "3.6.8"
  }
 },
 "nbformat": 4,
 "nbformat_minor": 2
}
