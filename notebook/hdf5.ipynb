{
 "cells": [
  {
   "cell_type": "code",
   "execution_count": 1,
   "metadata": {},
   "outputs": [],
   "source": [
    "import h5py as h5;\n",
    "import numpy as np;\n",
    "import matplotlib.pyplot as plt;"
   ]
  },
  {
   "cell_type": "code",
   "execution_count": 4,
   "metadata": {},
   "outputs": [],
   "source": [
    "filedir = '/home/suerfu/nidaq/'\n",
    "filename = 'Select.h5'\n",
    "file = h5.File( filedir+filename, 'r' )"
   ]
  },
  {
   "cell_type": "code",
   "execution_count": 7,
   "metadata": {},
   "outputs": [
    {
     "name": "stdout",
     "output_type": "stream",
     "text": [
      "<KeysViewHDF5 ['Matrix in file']>\n"
     ]
    }
   ],
   "source": [
    "#ch_indices = file['adc1'].attrs['adc_channel_indices']\n",
    "#nb_samples = file['adc1'].attrs['nb_samples']\n",
    "#nb_events = file['adc1'].attrs['nb_events']\n",
    "#sample_rate = file['adc1'].attrs['sample_rate']\n",
    "#cal = file['adc1'].attrs['adc_conversion_factor']\n",
    "\n",
    "print( file.keys() )"
   ]
  },
  {
   "cell_type": "code",
   "execution_count": 13,
   "metadata": {},
   "outputs": [
    {
     "name": "stdout",
     "output_type": "stream",
     "text": [
      "[53  0  0  0  0  0  0  0]\n",
      "[ 1  9 17  0 25 33 41  0]\n"
     ]
    }
   ],
   "source": [
    "matrix = file['Matrix in file']\n",
    "print( matrix[:,0] )\n",
    "print( matrix[:,1] )"
   ]
  },
  {
   "cell_type": "code",
   "execution_count": 14,
   "metadata": {},
   "outputs": [
    {
     "name": "stdout",
     "output_type": "stream",
     "text": [
      "<HDF5 dataset \"Matrix in file\": shape (8, 12), type \"<i4\">\n"
     ]
    }
   ],
   "source": [
    "print(matrix)"
   ]
  },
  {
   "cell_type": "code",
   "execution_count": null,
   "metadata": {},
   "outputs": [],
   "source": []
  }
 ],
 "metadata": {
  "kernelspec": {
   "display_name": "Python 3",
   "language": "python",
   "name": "python3"
  },
  "language_info": {
   "codemirror_mode": {
    "name": "ipython",
    "version": 3
   },
   "file_extension": ".py",
   "mimetype": "text/x-python",
   "name": "python",
   "nbconvert_exporter": "python",
   "pygments_lexer": "ipython3",
   "version": "3.6.8"
  }
 },
 "nbformat": 4,
 "nbformat_minor": 2
}
