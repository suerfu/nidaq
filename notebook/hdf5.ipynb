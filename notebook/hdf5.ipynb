{
 "cells": [
  {
   "cell_type": "code",
   "execution_count": 1,
   "metadata": {},
   "outputs": [],
   "source": [
    "import h5py as h5;\n",
    "import numpy as np;\n",
    "import matplotlib.pyplot as plt;"
   ]
  },
  {
   "cell_type": "code",
   "execution_count": 35,
   "metadata": {},
   "outputs": [
    {
     "name": "stdout",
     "output_type": "stream",
     "text": [
      "<KeysViewHDF5 ['adc1', 'detconfig1']>\n",
      "<KeysViewHDF5 ['event_id', 'event_index', 'event_num', 'event_time']>\n",
      "b'2-inch NaI detector. Cs-137 on the floor, about 1 m distance. Input channel is on FS. '\n"
     ]
    }
   ],
   "source": [
    "filedir = '/home/suerfu/nidaq/'\n",
    "filename = 'Select.h5'\n",
    "filename = 'Select_D20210622_T105856_F0002.hdf5'\n",
    "file = h5.File( filedir+filename, 'r' )\n",
    "print( file.keys() )\n",
    "print( file['adc1']['event_1'].attrs.keys() )\n",
    "print( file.attrs['comment'] )"
   ]
  },
  {
   "cell_type": "code",
   "execution_count": 22,
   "metadata": {},
   "outputs": [],
   "source": [
    "#matrix = file['Data']['Matrix3']\n",
    "#npmatrix = np.array(matrix)\n",
    "#print( matrix[:,0] )\n",
    "#print( matrix[:,1] )\n",
    "#print( npmatrix)"
   ]
  },
  {
   "cell_type": "code",
   "execution_count": 34,
   "metadata": {},
   "outputs": [],
   "source": [
    "file.close()"
   ]
  },
  {
   "cell_type": "code",
   "execution_count": null,
   "metadata": {},
   "outputs": [],
   "source": []
  },
  {
   "cell_type": "code",
   "execution_count": null,
   "metadata": {},
   "outputs": [],
   "source": []
  }
 ],
 "metadata": {
  "kernelspec": {
   "display_name": "Python 3",
   "language": "python",
   "name": "python3"
  },
  "language_info": {
   "codemirror_mode": {
    "name": "ipython",
    "version": 3
   },
   "file_extension": ".py",
   "mimetype": "text/x-python",
   "name": "python",
   "nbconvert_exporter": "python",
   "pygments_lexer": "ipython3",
   "version": "3.6.8"
  }
 },
 "nbformat": 4,
 "nbformat_minor": 2
}
