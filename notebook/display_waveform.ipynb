{
 "cells": [
  {
   "cell_type": "code",
   "execution_count": 1,
   "metadata": {},
   "outputs": [],
   "source": [
    "import h5py as h5;\n",
    "import numpy as np;\n",
    "import matplotlib.pyplot as plt;"
   ]
  },
  {
   "cell_type": "code",
   "execution_count": 11,
   "metadata": {},
   "outputs": [
    {
     "name": "stdout",
     "output_type": "stream",
     "text": [
      "b'2-inch NaI detector. No source. Input channel is on GS. '\n"
     ]
    }
   ],
   "source": [
    "filedir = '/home/suerfu/nidaq/'\n",
    "filename = 'NaI_FS_NoSource_D20210106_T144859_F0001.hdf5'\n",
    "filename = 'NaI_GS_NoSource_D20210106_T145111_F0001.hdf5'\n",
    "file = h5.File( filedir+filename, 'r' )\n",
    "\n",
    "ch_indices = file['adc1'].attrs['adc_channel_indices']\n",
    "nb_samples = file['adc1'].attrs['nb_samples']\n",
    "nb_events = file['adc1'].attrs['nb_events']\n",
    "sample_rate = file['adc1'].attrs['sample_rate']\n",
    "cal = file['adc1'].attrs['adc_conversion_factor']\n",
    "\n",
    "print( file.attrs['comment'])"
   ]
  },
  {
   "cell_type": "code",
   "execution_count": 18,
   "metadata": {},
   "outputs": [
    {
     "data": {
      "text/plain": [
       "[<matplotlib.lines.Line2D at 0x7f7ab758e908>]"
      ]
     },
     "execution_count": 18,
     "metadata": {},
     "output_type": "execute_result"
    },
    {
     "data": {
      "image/png": "[encoded data removed]",
      "text/plain": [
       "<Figure size 432x288 with 1 Axes>"
      ]
     },
     "metadata": {
      "needs_background": "light"
     },
     "output_type": "display_data"
    }
   ],
   "source": [
    "evt_index = 1\n",
    "\n",
    "fig = plt.plot()\n",
    "\n",
    "ch_index = 0;\n",
    "\n",
    "Vcal = np.poly1d( cal[ch_index][::-1] )\n",
    "event_name = 'event_%d' % evt_index\n",
    "event = file['adc1'][event_name][ch_index]\n",
    "\n",
    "plt.plot( Vcal(event[540000:600000]) )\n",
    "#axs[ch_index].plot( Vcal(event) )"
   ]
  },
  {
   "cell_type": "code",
   "execution_count": 9,
   "metadata": {},
   "outputs": [
    {
     "data": {
      "text/plain": [
       "1"
      ]
     },
     "execution_count": 9,
     "metadata": {},
     "output_type": "execute_result"
    }
   ],
   "source": [
    "ch_indices.size"
   ]
  },
  {
   "cell_type": "code",
   "execution_count": null,
   "metadata": {},
   "outputs": [],
   "source": []
  }
 ],
 "metadata": {
  "kernelspec": {
   "display_name": "Python 3",
   "language": "python",
   "name": "python3"
  },
  "language_info": {
   "codemirror_mode": {
    "name": "ipython",
    "version": 3
   },
   "file_extension": ".py",
   "mimetype": "text/x-python",
   "name": "python",
   "nbconvert_exporter": "python",
   "pygments_lexer": "ipython3",
   "version": "3.6.8"
  }
 },
 "nbformat": 4,
 "nbformat_minor": 2
}
