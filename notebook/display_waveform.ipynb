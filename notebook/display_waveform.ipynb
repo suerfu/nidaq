{
 "cells": [
  {
   "cell_type": "code",
   "execution_count": null,
   "metadata": {},
   "outputs": [],
   "source": [
    "import h5py as h5;\n",
    "import numpy as np;\n",
    "import matplotlib.pyplot as plt;"
   ]
  },
  {
   "cell_type": "code",
   "execution_count": null,
   "metadata": {},
   "outputs": [],
   "source": [
    "filedir = '../'\n",
    "filename = 'Migration_I0_D20200910_T110214_F0001.hdf5'\n",
    "file = h5.File( filedir+filename )\n",
    "\n",
    "ch_indices = file['adc1'].attrs['adc_channel_indices']\n",
    "nb_samples = file['adc1'].attrs['nb_samples']\n",
    "nb_events = file['adc1'].attrs['nb_events']\n",
    "sample_rate = file['adc1'].attrs['sample_rate']\n",
    "cal = file['adc1'].attrs['adc_conversion_factor']\n",
    "\n",
    "print( file.attrs['comment'])"
   ]
  },
  {
   "cell_type": "code",
   "execution_count": null,
   "metadata": {},
   "outputs": [],
   "source": [
    "evt_index = 1\n",
    "\n",
    "fig, axs = plt.subplots(8, figsize=(24,32))\n",
    "\n",
    "for ch_index in np.arange(0,8):\n",
    "    \n",
    "    Vcal = np.poly1d( cal[ch_index][::-1] )\n",
    "    event_name = 'event_%d' % evt_index\n",
    "    event = file['adc1'][event_name][ch_index][:100]\n",
    "\n",
    "    axs[ch_index].plot( Vcal(event) )"
   ]
  },
  {
   "cell_type": "code",
   "execution_count": null,
   "metadata": {},
   "outputs": [],
   "source": []
  }
 ],
 "metadata": {
  "kernelspec": {
   "display_name": "Python 3",
   "language": "python",
   "name": "python3"
  },
  "language_info": {
   "codemirror_mode": {
    "name": "ipython",
    "version": 3
   },
   "file_extension": ".py",
   "mimetype": "text/x-python",
   "name": "python",
   "nbconvert_exporter": "python",
   "pygments_lexer": "ipython3",
   "version": "3.6.8"
  }
 },
 "nbformat": 4,
 "nbformat_minor": 2
}
