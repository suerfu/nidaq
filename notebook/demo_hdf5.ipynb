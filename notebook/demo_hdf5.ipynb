{
 "cells": [
  {
   "cell_type": "code",
   "execution_count": null,
   "metadata": {},
   "outputs": [],
   "source": [
    "import h5py as h5;\n",
    "import numpy as np;\n",
    "import matplotlib.pyplot as plt;"
   ]
  },
  {
   "cell_type": "code",
   "execution_count": null,
   "metadata": {},
   "outputs": [],
   "source": [
    "filename = '../demo_D20200414_T94013_F0000.hdf5'\n",
    "\n",
    "f = h5.File( filename )\n",
    "\n",
    "print('Under root dir:')\n",
    "print( list(f.attrs.keys())) \n",
    "\n",
    "print('\\nUnder adc dir:')\n",
    "print( list(f.keys()) )"
   ]
  },
  {
   "cell_type": "code",
   "execution_count": null,
   "metadata": {},
   "outputs": [],
   "source": [
    "print('Keys:')\n",
    "print( list(f['adc1'].attrs.keys()) )\n",
    "\n",
    "print('\\nCalibration coefficients:')\n",
    "print( f['adc1'].attrs['/adc1/calib'])\n",
    "\n",
    "print('\\nShape:')\n",
    "print( f['adc1'].attrs['/adc1/shape'])"
   ]
  },
  {
   "cell_type": "code",
   "execution_count": null,
   "metadata": {},
   "outputs": [],
   "source": [
    "chan_index = 0\n",
    "evt_index = 2\n",
    "\n",
    "event_name = 'event_%d' % evt_index\n",
    "trace1 = f['adc1'][event_name][chan_index][0:2000]\n",
    "plt.plot(trace1)"
   ]
  },
  {
   "cell_type": "code",
   "execution_count": null,
   "metadata": {},
   "outputs": [],
   "source": []
  }
 ],
 "metadata": {
  "kernelspec": {
   "display_name": "Python 3",
   "language": "python",
   "name": "python3"
  },
  "language_info": {
   "codemirror_mode": {
    "name": "ipython",
    "version": 3
   },
   "file_extension": ".py",
   "mimetype": "text/x-python",
   "name": "python",
   "nbconvert_exporter": "python",
   "pygments_lexer": "ipython3",
   "version": "3.7.4"
  }
 },
 "nbformat": 4,
 "nbformat_minor": 2
}
