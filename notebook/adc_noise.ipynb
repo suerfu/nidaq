{
 "cells": [
  {
   "cell_type": "code",
   "execution_count": null,
   "metadata": {},
   "outputs": [],
   "source": [
    "import h5py as h5;\n",
    "import numpy as np;\n",
    "import matplotlib.pyplot as plt;"
   ]
  },
  {
   "cell_type": "code",
   "execution_count": null,
   "metadata": {},
   "outputs": [],
   "source": [
    "filedir = '/sdata/noise/'\n",
    "#filename = 'ADCNoise_All_Terminated_FS_I0_D20200829_T130503_F0001.hdf5'\n",
    "filename = 'ADCNoise_GS_I0_D20200829_T142909_F0001.hdf5'\n",
    "filename = 'ADCXTalk_TrigCont_I0_D20200829_T142125_F0001.hdf5'\n",
    "filename = 'ADCXTalk_TrigCont_GS_I0_D20200829_T142703_F0001.hdf5'\n",
    "\n",
    "file = h5.File( filedir+filename )\n",
    "print( file.attrs['comment'] )\n",
    "\n",
    "ch_indices = file['adc1'].attrs['adc_channel_indices']\n",
    "nb_samples = file['adc1'].attrs['nb_samples']\n",
    "nb_events = file['adc1'].attrs['nb_events']\n",
    "sample_rate = file['adc1'].attrs['sample_rate']\n",
    "cal = file['adc1'].attrs['adc_conversion_factor']"
   ]
  },
  {
   "cell_type": "code",
   "execution_count": null,
   "metadata": {},
   "outputs": [],
   "source": [
    "evt_index = 1\n",
    "\n",
    "fig, axs = plt.subplots(8, figsize=(24,20))\n",
    "\n",
    "for ch_index in np.arange(0,8):\n",
    "    event_name = 'event_%d' % evt_index\n",
    "    event = file['adc1'][event_name][ch_index][:1000]\n",
    "\n",
    "    axs[ch_index].plot( event )"
   ]
  },
  {
   "cell_type": "code",
   "execution_count": null,
   "metadata": {},
   "outputs": [],
   "source": [
    "evt_index = 1\n",
    "\n",
    "#fig, ax = plt.subplots(nrows=4, ncols=2, figsize=(24,20))\n",
    "#axs = ax.flatten()\n",
    "\n",
    "hist = {}\n",
    "bins = np.arange(-100,101)\n",
    "\n",
    "for ch_index in np.arange(0,8):\n",
    "    event_name = 'event_%d' % evt_index\n",
    "    event = file['adc1'][event_name][ch_index]\n",
    "    hist[ch_index],_ = np.histogram( event, bins)\n",
    "    print( '%.6f' % np.std(event) )\n",
    "\n",
    "#axs[ch_index].plot( event )"
   ]
  },
  {
   "cell_type": "code",
   "execution_count": null,
   "metadata": {},
   "outputs": [],
   "source": [
    "fig, ax = plt.subplots(nrows=4, ncols=2, figsize=(24,20))\n",
    "axs = ax.flatten()\n",
    "\n",
    "for ch_index in np.arange(0,8):\n",
    "    axs[ch_index].bar( (bins[1:]-0.5)[ hist[ch_index]>0 ], hist[ch_index][ hist[ch_index]>0 ], width=1 )"
   ]
  },
  {
   "cell_type": "code",
   "execution_count": null,
   "metadata": {},
   "outputs": [],
   "source": [
    "file.close()"
   ]
  },
  {
   "cell_type": "code",
   "execution_count": null,
   "metadata": {},
   "outputs": [],
   "source": [
    "#\n",
    "# Cross talk between different channels\n",
    "#\n",
    "\n",
    "file.close()\n",
    "\n",
    "filedir = '/sdata/noise/'\n",
    "filename = 'ADCXTalk_TrigCont_GS_I0_D20200829_T142703_F0001.hdf5'\n",
    "file = h5.File( filedir+filename )\n",
    "print( file.attrs['comment'] )\n",
    "\n",
    "ch_indices = file['adc1'].attrs['adc_channel_indices']\n",
    "nb_samples = file['adc1'].attrs['nb_samples']\n",
    "nb_events = file['adc1'].attrs['nb_events']\n",
    "sample_rate = file['adc1'].attrs['sample_rate']\n",
    "cal = file['adc1'].attrs['adc_conversion_factor']"
   ]
  },
  {
   "cell_type": "code",
   "execution_count": null,
   "metadata": {},
   "outputs": [],
   "source": [
    "evt_index = 1\n",
    "\n",
    "fig, axs = plt.subplots(8, figsize=(24,20))\n",
    "\n",
    "for ch_index in np.arange(0,8):\n",
    "    event_name = 'event_%d' % evt_index\n",
    "    event = file['adc1'][event_name][ch_index][:10000]\n",
    "\n",
    "    axs[ch_index].plot( event )"
   ]
  },
  {
   "cell_type": "code",
   "execution_count": null,
   "metadata": {},
   "outputs": [],
   "source": [
    "psd = {}\n",
    "\n",
    "time = np.linspace( 0, nb_samples/sample_rate, nb_samples)\n",
    "freq = np.fft.fftfreq( n=t.shape[-1], d=1./sample_rate)\n",
    "freq_bin = freq[1]-freq[0]\n",
    "\n",
    "Vfreq = {}\n",
    "Vf = []\n",
    "\n",
    "\n",
    "fig, axs = plt.subplots(8, figsize=(24,20))\n",
    "\n",
    "\n",
    "for ch_index in np.arange(0,8):\n",
    "    \n",
    "    counter = 0;\n",
    "    \n",
    "    for evt_index in range( 1, nb_events+1 ):\n",
    "        event_name = 'event_%d' % evt_index\n",
    "        event = file['adc1'][event_name][ch_index]\n",
    "        \n",
    "        if counter==0:\n",
    "            Vf = ( np.abs(np.fft.fft(event))**2 ) /freq_bin/nb_samples\n",
    "                # divide by frequency bin width and number of samples to normalize.\n",
    "        else:\n",
    "            Vf += ( np.abs(np.fft.fft(event))**2 ) /freq_bin/nb_samples\n",
    "        \n",
    "        counter += 1\n",
    "        \n",
    "    Vfreq[ch_index] = Vf/counter\n",
    "    \n",
    "    axs[ch_index].semilogx()\n",
    "    axs[ch_index].semilogy()\n",
    "    axs[ch_index].plot( freq[freq>0], Vfreq[ch_index][freq>0] )"
   ]
  },
  {
   "cell_type": "code",
   "execution_count": null,
   "metadata": {},
   "outputs": [],
   "source": [
    "fig, axs = plt.subplots(8, figsize=(24,20))\n",
    "\n",
    "\n",
    "for ch_index in np.arange(0,8):\n",
    "    axs[ch_index].semilogy()\n",
    "    axs[ch_index].plot( freq[freq>0][900:1100], Vfreq[ch_index][freq>0][900:1100] )\n",
    "    roi = 1.0*Vfreq[ch_index][freq>0][900:1100]\n",
    "    #print( '%.5e %.5e' % ( np.amax(roi), np.average(roi) + 2*np.std(roi) ) )\n",
    "    print( '%.5e' % np.amax(roi) )"
   ]
  },
  {
   "cell_type": "code",
   "execution_count": null,
   "metadata": {},
   "outputs": [],
   "source": [
    "file.close()"
   ]
  },
  {
   "cell_type": "code",
   "execution_count": null,
   "metadata": {},
   "outputs": [],
   "source": []
  }
 ],
 "metadata": {
  "kernelspec": {
   "display_name": "Python 3",
   "language": "python",
   "name": "python3"
  },
  "language_info": {
   "codemirror_mode": {
    "name": "ipython",
    "version": 3
   },
   "file_extension": ".py",
   "mimetype": "text/x-python",
   "name": "python",
   "nbconvert_exporter": "python",
   "pygments_lexer": "ipython3",
   "version": "3.6.8"
  }
 },
 "nbformat": 4,
 "nbformat_minor": 2
}
